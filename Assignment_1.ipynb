{
  "nbformat": 4,
  "nbformat_minor": 0,
  "metadata": {
    "colab": {
      "provenance": [],
      "authorship_tag": "ABX9TyMJoY9ltb3va0rCJMDjn/Wc",
      "include_colab_link": true
    },
    "kernelspec": {
      "name": "python3",
      "display_name": "Python 3"
    },
    "language_info": {
      "name": "python"
    }
  },
  "cells": [
    {
      "cell_type": "markdown",
      "metadata": {
        "id": "view-in-github",
        "colab_type": "text"
      },
      "source": [
        "<a href=\"https://colab.research.google.com/github/Shubham-Paudel/LAB-AI/blob/main/Assignment_1.ipynb\" target=\"_parent\"><img src=\"https://colab.research.google.com/assets/colab-badge.svg\" alt=\"Open In Colab\"/></a>"
      ]
    },
    {
      "cell_type": "code",
      "execution_count": 8,
      "metadata": {
        "id": "fJUUk4SUzTWS"
      },
      "outputs": [],
      "source": [
        "import random"
      ]
    },
    {
      "cell_type": "code",
      "source": [
        "#Write a program to find prime number with in a range using function.\n",
        "\n",
        "def find_primes_in_range(start, end):\n",
        "    primes = []\n",
        "    for num in range(start, end + 1):\n",
        "        if num > 1:\n",
        "            for i in range(2, num):\n",
        "                if num % i == 0:\n",
        "                    break\n",
        "            else:\n",
        "                primes.append(num)\n",
        "    return primes\n",
        "\n",
        "print(\"Prime numbers between 10 and 50:\", find_primes_in_range(10, 50))"
      ],
      "metadata": {
        "colab": {
          "base_uri": "https://localhost:8080/"
        },
        "id": "zcNPFxOqzvU1",
        "outputId": "c1076fdd-b2a8-4740-db1b-670b2cdb526c"
      },
      "execution_count": 2,
      "outputs": [
        {
          "output_type": "stream",
          "name": "stdout",
          "text": [
            "Prime numbers between 10 and 50: [11, 13, 17, 19, 23, 29, 31, 37, 41, 43, 47]\n"
          ]
        }
      ]
    },
    {
      "cell_type": "code",
      "source": [
        "#Write a program to check palindrome.\n",
        "def is_palindrome(value):\n",
        "    value_str = str(value)\n",
        "    return value_str == value_str[::-1]\n",
        "test_values = [\"radar\", \"helloworld\", 12321, 12345, 1331]\n",
        "for value in test_values:\n",
        "    result = is_palindrome(value)\n",
        "    print(f\"Is '{value}' a palindrome? {result}\")"
      ],
      "metadata": {
        "colab": {
          "base_uri": "https://localhost:8080/"
        },
        "id": "kzg9WFb5z01j",
        "outputId": "f6a27519-97bf-477f-caf5-d8e096dbfbdb"
      },
      "execution_count": 4,
      "outputs": [
        {
          "output_type": "stream",
          "name": "stdout",
          "text": [
            "Is 'radar' a palindrome? True\n",
            "Is 'helloworld' a palindrome? False\n",
            "Is '12321' a palindrome? True\n",
            "Is '12345' a palindrome? False\n",
            "Is '1331' a palindrome? True\n"
          ]
        }
      ]
    },
    {
      "cell_type": "code",
      "source": [
        "#Write a program to generate the Fibonacci sequence of a given number.\n",
        "def fibonacci_sequence(n):\n",
        "    sequence = [0, 1]\n",
        "    while len(sequence) < n:\n",
        "        sequence.append(sequence[-1] + sequence[-2])\n",
        "    return sequence[:n]\n",
        "\n",
        "\n",
        "n = 10\n",
        "print(fibonacci_sequence(n))"
      ],
      "metadata": {
        "colab": {
          "base_uri": "https://localhost:8080/"
        },
        "id": "rkr657pT437V",
        "outputId": "caf40d3c-31a0-41f8-b58a-de52862df2b4"
      },
      "execution_count": 5,
      "outputs": [
        {
          "output_type": "stream",
          "name": "stdout",
          "text": [
            "[0, 1, 1, 2, 3, 5, 8, 13, 21, 34]\n"
          ]
        }
      ]
    },
    {
      "cell_type": "code",
      "source": [
        "#Create a number guessing game. Where you have to generate a random number in between 1 to 100 and user have to prompt a number for guess. if its high or low number let the user know and guide them through the process to guess correct number.\n",
        "\n",
        "def number_guessing_game():\n",
        "    number_to_guess = random.randint(1, 100)\n",
        "    attempts = 0\n",
        "    while True:\n",
        "        user_guess = int(input(\"Enter your guess (between 1 and 100): \"))\n",
        "        attempts += 1\n",
        "        if user_guess < number_to_guess:\n",
        "            print(\"Too low! Try again.\")\n",
        "        elif user_guess > number_to_guess:\n",
        "            print(\"Too high! Try again.\")\n",
        "        else:\n",
        "            print(f\"Congratulations! You've guessed the number in {attempts} attempts.\")\n",
        "            break"
      ],
      "metadata": {
        "id": "ld9ZRBKp5dKy"
      },
      "execution_count": 6,
      "outputs": []
    },
    {
      "cell_type": "code",
      "source": [
        "number_guessing_game()"
      ],
      "metadata": {
        "colab": {
          "base_uri": "https://localhost:8080/"
        },
        "id": "tSYk2rRx5lkV",
        "outputId": "b2df54c2-2b2f-4ec4-c4b3-6561ba67c558"
      },
      "execution_count": 9,
      "outputs": [
        {
          "output_type": "stream",
          "name": "stdout",
          "text": [
            "Enter your guess (between 1 and 100): 55\n",
            "Too high! Try again.\n",
            "Enter your guess (between 1 and 100): 40\n",
            "Too high! Try again.\n",
            "Enter your guess (between 1 and 100): 20\n",
            "Too high! Try again.\n",
            "Enter your guess (between 1 and 100): 5\n",
            "Too high! Try again.\n",
            "Enter your guess (between 1 and 100): 2\n",
            "Congratulations! You've guessed the number in 5 attempts.\n"
          ]
        }
      ]
    }
  ]
}